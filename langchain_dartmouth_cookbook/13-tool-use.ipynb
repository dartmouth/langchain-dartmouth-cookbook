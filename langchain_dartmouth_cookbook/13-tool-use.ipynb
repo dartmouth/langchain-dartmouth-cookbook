{
 "cells": [
  {
   "cell_type": "markdown",
   "id": "ffbaa049",
   "metadata": {},
   "source": [
    "# Tool Use\n",
    "\n",
    "Tool use, also known as function calling, is a key feature of agentic applications. "
   ]
  },
  {
   "cell_type": "code",
   "execution_count": 9,
   "id": "9caf035b",
   "metadata": {},
   "outputs": [
    {
     "data": {
      "text/plain": [
       "True"
      ]
     },
     "execution_count": 9,
     "metadata": {},
     "output_type": "execute_result"
    }
   ],
   "source": [
    "from langchain_dartmouth.llms import ChatDartmouthCloud\n",
    "from dotenv import find_dotenv, load_dotenv\n",
    "\n",
    "load_dotenv(find_dotenv())"
   ]
  },
  {
   "cell_type": "markdown",
   "id": "7b2e6df1",
   "metadata": {},
   "source": [
    "[Dog API](https://dogapi.dog/docs/api-v2)"
   ]
  },
  {
   "cell_type": "code",
   "execution_count": 10,
   "id": "fb978d62",
   "metadata": {},
   "outputs": [],
   "source": [
    "from langchain_core.tools import tool\n",
    "\n",
    "import requests\n",
    "\n",
    "import os\n",
    "\n",
    "\n",
    "@tool\n",
    "def search_breed(breed: str) -> list[dict[str, str | int]]:\n",
    "    \"\"\"Search the database for information on a given dog breed. Weight is in pounds, height in inches. All scales range from 1 (lowest) to 5 (highest).\"\"\"\n",
    "    response = requests.get(\n",
    "        url=\"https://api.api-ninjas.com/v1/dogs\",\n",
    "        params={\"name\": breed},\n",
    "        headers={\"x-api-key\": os.environ[\"DOG_API_KEY\"]},\n",
    "    )\n",
    "    return response.json()\n",
    "\n",
    "\n",
    "tools = [search_breed]"
   ]
  },
  {
   "cell_type": "code",
   "execution_count": 11,
   "id": "36796216",
   "metadata": {},
   "outputs": [],
   "source": [
    "llm = ChatDartmouthCloud(model_name=\"openai.gpt-4.1-mini-2025-04-14\")\n",
    "llm_with_tools = llm.bind_tools(tools)"
   ]
  },
  {
   "cell_type": "code",
   "execution_count": 12,
   "id": "0b92d868",
   "metadata": {},
   "outputs": [
    {
     "name": "stdout",
     "output_type": "stream",
     "text": [
      "================================\u001b[1m Human Message \u001b[0m=================================\n",
      "\n",
      "What can you tell me about the dachshund?\n",
      "==================================\u001b[1m Ai Message \u001b[0m==================================\n",
      "Tool Calls:\n",
      "  search_breed (call_MiFP4NxzdFqIxXGjseTObHWY)\n",
      " Call ID: call_MiFP4NxzdFqIxXGjseTObHWY\n",
      "  Args:\n",
      "    breed: dachshund\n",
      "=================================\u001b[1m Tool Message \u001b[0m=================================\n",
      "Name: search_breed\n",
      "\n",
      "[{\"image_link\": \"https://api-ninjas.com/images/dogs/dachshund.jpg\", \"good_with_children\": 3, \"good_with_other_dogs\": 4, \"shedding\": 2, \"grooming\": 2, \"drooling\": 2, \"coat_length\": 2, \"good_with_strangers\": 4, \"playfulness\": 4, \"protectiveness\": 4, \"trainability\": 4, \"energy\": 3, \"barking\": 5, \"min_life_expectancy\": 12.0, \"max_life_expectancy\": 16.0, \"max_height_male\": 9.0, \"max_height_female\": 9.0, \"max_weight_male\": 32.0, \"max_weight_female\": 32.0, \"min_height_male\": 8.0, \"min_height_female\": 8.0, \"min_weight_male\": 16.0, \"min_weight_female\": 16.0, \"name\": \"Dachshund\"}]\n",
      "==================================\u001b[1m Ai Message \u001b[0m==================================\n",
      "\n",
      "The Dachshund is a small dog breed with the following characteristics:\n",
      "\n",
      "- Height: 8 to 9 inches\n",
      "- Weight: 16 to 32 pounds\n",
      "- Life expectancy: 12 to 16 years\n",
      "- Coat length: Moderate (scale 2 out of 5)\n",
      "- Shedding: Low to moderate (scale 2 out of 5)\n",
      "- Grooming needs: Low to moderate (scale 2 out of 5)\n",
      "- Drooling: Low (scale 2 out of 5)\n",
      "- Good with children: Moderate (scale 3 out of 5)\n",
      "- Good with other dogs: High (scale 4 out of 5)\n",
      "- Good with strangers: High (scale 4 out of 5)\n",
      "- Playfulness: High (scale 4 out of 5)\n",
      "- Protectiveness: High (scale 4 out of 5)\n",
      "- Trainability: High (scale 4 out of 5)\n",
      "- Energy level: Moderate (scale 3 out of 5)\n",
      "- Barking level: Very high (scale 5 out of 5)\n",
      "\n",
      "They are known for their playful and protective nature, and they can be quite vocal. The Dachshund is a charming and lively companion. Here is an image of a Dachshund for reference: \n",
      "![Dachshund](https://api-ninjas.com/images/dogs/dachshund.jpg)\n"
     ]
    }
   ],
   "source": [
    "from langchain_core.messages import HumanMessage\n",
    "\n",
    "messages = [HumanMessage(\"What can you tell me about the dachshund?\")]\n",
    "response = llm_with_tools.invoke(messages)\n",
    "messages.append(response)\n",
    "\n",
    "if tool_calls := response.tool_calls:\n",
    "    for tool_call in tool_calls:\n",
    "        fn, *_ = [tool for tool in tools if tool.name == tool_call[\"name\"]]\n",
    "        tool_msg = fn.invoke(tool_call)\n",
    "        messages.append(tool_msg)\n",
    "response = llm_with_tools.invoke(messages)\n",
    "messages.append(response)\n",
    "\n",
    "for message in messages:\n",
    "    message.pretty_print()"
   ]
  },
  {
   "cell_type": "markdown",
   "id": "71f45d49",
   "metadata": {},
   "source": [
    "## Summary\n",
    "\n",
    "Tool use or function calling describes the ability of a Large Language Model to output arguments for functions whose output may help to further the user's goals."
   ]
  }
 ],
 "metadata": {
  "kernelspec": {
   "display_name": ".venv",
   "language": "python",
   "name": "python3"
  },
  "language_info": {
   "codemirror_mode": {
    "name": "ipython",
    "version": 3
   },
   "file_extension": ".py",
   "mimetype": "text/x-python",
   "name": "python",
   "nbconvert_exporter": "python",
   "pygments_lexer": "ipython3",
   "version": "3.12.9"
  }
 },
 "nbformat": 4,
 "nbformat_minor": 5
}
