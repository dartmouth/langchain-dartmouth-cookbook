{
 "cells": [
  {
   "cell_type": "markdown",
   "id": "0b8c541b",
   "metadata": {},
   "source": [
    "# ReAct Agent using LangGraph\n",
    "\n",
    "[Yao, Shunyu, et al. \"React: Synergizing reasoning and acting in language models.\" International Conference on Learning Representations (ICLR). 2023.](https://par.nsf.gov/servlets/purl/10451467)"
   ]
  },
  {
   "cell_type": "code",
   "execution_count": null,
   "id": "be0a32ac",
   "metadata": {},
   "outputs": [],
   "source": [
    "from langchain_dartmouth.llms import ChatDartmouthCloud\n",
    "from dotenv import find_dotenv, load_dotenv\n",
    "\n",
    "from langgraph.prebuilt import create_react_agent\n",
    "\n",
    "load_dotenv(find_dotenv())"
   ]
  },
  {
   "cell_type": "code",
   "execution_count": null,
   "id": "766a5e47",
   "metadata": {},
   "outputs": [],
   "source": [
    "from langchain_core.tools import tool\n",
    "\n",
    "import requests\n",
    "\n",
    "import os\n",
    "\n",
    "\n",
    "@tool\n",
    "def search_dog(\n",
    "    breed: str | None = None,\n",
    "    shedding: int | None = None,\n",
    "    barking: int | None = None,\n",
    "    protectiveness: int | None = None,\n",
    "    trainability: int | None = None,\n",
    "    energy: int | None = None,\n",
    "    max_height: int | None = None,\n",
    "    max_weight: int | None = None,\n",
    "    min_height: int | None = None,\n",
    "    min_weight: int | None = None,\n",
    ") -> list[dict[str, str | int]]:\n",
    "    \"\"\"Search the database for information on a dog. Weight is in pounds, height in inches. All scales range from 1 (lowest) to 5 (highest).\"\"\"\n",
    "    response = requests.get(\n",
    "        url=\"https://api.api-ninjas.com/v1/dogs\",\n",
    "        params={\n",
    "            \"name\": breed,\n",
    "            \"shedding\": shedding,\n",
    "            \"barking\": barking,\n",
    "            \"energy\": energy,\n",
    "            \"protectiveness\": protectiveness,\n",
    "            \"trainability\": trainability,\n",
    "            \"max_height\": max_height,\n",
    "            \"max_weight\": max_weight,\n",
    "            \"min_height\": min_height,\n",
    "            \"min_weight\": min_weight,\n",
    "        },\n",
    "        headers={\"x-api-key\": os.environ[\"DOG_API_KEY\"]},\n",
    "    )\n",
    "    return response.json()\n",
    "\n",
    "\n",
    "tools = [search_dog]"
   ]
  },
  {
   "cell_type": "code",
   "execution_count": null,
   "id": "3162b23c",
   "metadata": {},
   "outputs": [],
   "source": [
    "model = ChatDartmouthCloud(\n",
    "    model_name=\"openai.gpt-4.1-mini-2025-04-14\",\n",
    "    max_tokens=2048,\n",
    ")"
   ]
  },
  {
   "cell_type": "code",
   "execution_count": null,
   "id": "69dec8af",
   "metadata": {},
   "outputs": [],
   "source": [
    "agent = create_react_agent(\n",
    "    model,\n",
    "    tools=tools,\n",
    ")"
   ]
  },
  {
   "cell_type": "code",
   "execution_count": null,
   "id": "0b554889",
   "metadata": {},
   "outputs": [],
   "source": [
    "from IPython.display import Image\n",
    "\n",
    "Image(agent.get_graph().draw_mermaid_png())"
   ]
  },
  {
   "cell_type": "code",
   "execution_count": null,
   "id": "a20948a1",
   "metadata": {},
   "outputs": [],
   "source": [
    "response = agent.invoke(\n",
    "    {\n",
    "        \"messages\": [\n",
    "            {\n",
    "                \"role\": \"user\",\n",
    "                \"content\": \"I am looking for a large, quiet dog that is trainable\",\n",
    "            }\n",
    "        ]\n",
    "    }\n",
    ")"
   ]
  },
  {
   "cell_type": "code",
   "execution_count": null,
   "id": "f7b5759d",
   "metadata": {},
   "outputs": [],
   "source": [
    "for message in response[\"messages\"]:\n",
    "    message.pretty_print()"
   ]
  }
 ],
 "metadata": {
  "kernelspec": {
   "display_name": ".venv",
   "language": "python",
   "name": "python3"
  },
  "language_info": {
   "codemirror_mode": {
    "name": "ipython",
    "version": 3
   },
   "file_extension": ".py",
   "mimetype": "text/x-python",
   "name": "python",
   "nbconvert_exporter": "python",
   "pygments_lexer": "ipython3",
   "version": "3.10.8"
  }
 },
 "nbformat": 4,
 "nbformat_minor": 5
}
