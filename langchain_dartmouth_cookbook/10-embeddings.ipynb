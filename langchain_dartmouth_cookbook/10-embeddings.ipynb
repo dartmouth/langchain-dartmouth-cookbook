{
 "cells": [
  {
   "cell_type": "markdown",
   "metadata": {},
   "source": [
    "# Embeddings\n",
    "\n",
    "At it's heart a large language model is predicting what is the most likely string of words to come from an input query. Machine learning models struggle to work with data that is not in a numeric format, so our first task is to represent words in a way that can be understood by computers. However, words are complicated. One way we can simplifiy this is to find words which mean similar things. For example, \"stupendous\" and \"nice\" mean similar things (a positive reaction) but at different intensities. \n",
    "\n",
    "Imagine we have 2 knobs we can turn. One represents \"niceness\" and one represents \"intensity\". Based on that, the \"niceness\" knob for \"nice\" and \"stupendous\" might be very similar, but the \"intensity\" might be different. Similarly, we can image that the settings for words like \"horrible\" and \"terrible\" may be similar. With this intuition, we can represent any word as a specific configuration of different knobs, by twisting and turning to get the perfect match. The examples in this sectino have embeddings with 1024 dimensions (or 1024 different knobs).  \n",
    "\n",
    "Another way is if we can find a word, such as \"Queen\", we can calculate how probable is it for another word to be around it. For example, \"Elizabeth\", \"King\", \"Buckingham\" may all be words that are more likely to appear around the word \"Queen\" compared to something like \"bulldozer\". As humans, we understand this intuitively. For computers, it may be a lot more difficult. One way to deal with this issue is by looking at \"Embeddings\", which are a way to representing text as numbers. "
   ]
  },
  {
   "cell_type": "code",
   "execution_count": 1,
   "metadata": {},
   "outputs": [
    {
     "data": {
      "text/plain": [
       "True"
      ]
     },
     "execution_count": 1,
     "metadata": {},
     "output_type": "execute_result"
    }
   ],
   "source": [
    "from dotenv import find_dotenv, load_dotenv\n",
    "\n",
    "load_dotenv(find_dotenv())"
   ]
  },
  {
   "cell_type": "markdown",
   "metadata": {},
   "source": [
    "# Creating an Embedding\n",
    "\n",
    "Let's find an embedding for a word of our choosing. We will be looking into static embeddings, which are embeddings which have been already assigned to several words already. Through different algorithms that analyze the probability of a word given it's semantic meaning and the context around it, each word is given a specific set of numbers, otherwise known as a \"Vector\". "
   ]
  },
  {
   "cell_type": "code",
   "execution_count": 11,
   "metadata": {},
   "outputs": [],
   "source": [
    "from langchain_dartmouth.embeddings import DartmouthEmbeddings\n",
    "from langchain_dartmouth.llms import ChatDartmouth\n",
    "\n",
    "from langchain_core.output_parsers import JsonOutputParser, ListOutputParser\n",
    "\n",
    "import numpy as np\n",
    "import pandas as pd\n",
    "import umap\n",
    "import matplotlib.pyplot as plt"
   ]
  },
  {
   "cell_type": "code",
   "execution_count": 3,
   "metadata": {},
   "outputs": [
    {
     "name": "stdout",
     "output_type": "stream",
     "text": [
      "[-0.0098512, 0.021645533, 0.020528702, 0.000515087, -0.03606561, -0.0034401882, -0.019277748, 0.031079523, -0.0088551855, -0.013496476, 0.02126853, 0.0049624527, -0.038428802, 0.013413767, -0.004831469, 0.014840598, -0.019473404, -0.037833326, -0.037558023, -0.00017545157, 0.0143051855, 0.043533113, -0.08317123, -0.023391493, 0.02023354, 0.03892471, 0.008833535, 0.015522147, 0.060258042, 0.009829163, -0.023471642, -0.019778078, 0.04882958, -0.035276916, -0.0027987345, -0.021148305, -0.003931096, -0.0033566123, -0.03245597, -0.0015825863, 0.021915514, -0.06235675, 0.05735998, -0.017271146, -0.018306775, -0.027426377, 0.016969977, -0.045100108, 0.030155057, -0.06374126, 0.008559248, 0.008048475, 0.00875124, -0.023909586, -0.049112137, -0.00404275, -0.019802958, 0.012755762, 0.005984073, 0.016819803, 0.024077311, -0.003208673, 0.039493624, -0.033909094, -0.028675787, -0.016938612, 0.021367928, 0.009030608, 0.01552536, 0.029666582, 0.0012243559, 0.023820473, 0.0014541324, -0.0020722183, -0.03347538, -0.0012514396, -0.016085941, 0.023206653, -0.020033818, -0.0029986594, -0.0075028986, 0.03387778, -0.0048798705, 0.020019544, -0.023766696, -0.006784155, 0.01593231, 0.009828808, -0.03507305, 0.01736906, 0.009021729, 0.0468456, 0.001543904, 0.012976218, 0.039104864, 0.038761426, -0.0066846977, -0.007803054, -0.049357027, 0.041406743, 0.04652422, 0.026789399, 0.020501385, 0.051247455, -0.04802187, 0.0043397597, -0.026459008, -0.021386854, -0.023622293, -0.018865647, -0.008193037, 0.007875317, 0.03540961, 0.04136899, -0.019936273, -0.001083363, 0.011094058, 0.050461855, -0.039832722, -0.005151481, 0.01602812, 0.008609762, 0.026991649, 0.010280519, -0.010575418, -0.019671233, -0.04070586, 0.01886697, -0.01601217, -0.013497729, -0.009387892, 0.0012518897, 0.026481727, 0.0044062505, 0.0010533226, -0.011914414, -0.053323254, 0.07029215, -0.0029309257, -0.01845346, 0.06541786, 0.039720334, 0.008953736, 0.07585215, -0.0062280246, 0.006474828, 0.0038421147, 0.009055758, -0.048946135, 0.01613361, -0.055535685, 0.025387652, -0.02713416, 0.036277365, -0.04445559, 0.040879637, -0.016371785, 0.0396655, -0.02096375, 0.011148999, 0.0006739103, -0.011062883, -0.017010659, 0.03047588, -0.012500197, 0.06581268, -0.019185297, -0.003799456, -0.023511432, -0.03359876, 0.0054450543, 3.0762334e-05, -0.019278193, 0.015965411, 0.0002408094, 0.06050719, 0.019421399, -0.0060586296, 0.047973793, 0.024741082, -0.013134158, 0.0012369303, 0.030243054, 0.03979776, 0.030076548, -0.008865677, 0.021808706, -0.008511727, -0.029940968, -0.013069652, -0.034611993, 0.007176413, -0.011488983, 0.021506056, -0.049830105, 0.018229678, -0.045847945, -0.01809407, -0.025858583, -0.021366032, 0.01529415, 0.011984195, -0.029972838, 0.009859277, -0.033815384, -0.051502533, 0.010399957, 0.058090363, -0.0159464, 0.026412627, 0.050968215, 0.050969847, 0.015571355, -0.023328902, -0.0020482726, -0.014984555, -0.012532415, 0.06422758, -0.026953414, 0.017542224, 0.027068019, 0.012441267, 0.011726417, 0.02666808, 0.018410856, 0.006548734, 0.01432365, 0.03640173, -0.011393866, -0.026161807, -0.03915808, 0.043377813, 0.020524075, 0.03614331, 0.025297234, -6.2613675e-05, -0.00084889354, 0.019766431, 0.03952202, -0.027248159, 0.017330628, 0.0029721041, 0.019157087, -0.022116156, 0.0063159754, 0.0010494739, 0.0065265005, 0.006001311, 0.0021335278, -0.0068500326, 0.03202221, 0.018709576, 0.0258839, -0.004385342, 0.023123447, 0.009678855, 0.06239615, -0.017112082, 0.039402496, -0.012123778, -0.039562587, -0.018075313, 0.031359114, 0.029033953, 0.028073195, 0.046220977, -0.024686906, 0.031971842, -0.02326647, -0.03572939, -0.05158297, -0.05593716, -0.03469308, -0.02109247, -0.009350597, -0.03664703, 0.047014184, -0.018444983, 0.035182174, -0.036024697, -0.011447622, 0.012181324, -0.051644154, 0.04508936, 0.02404779, 0.0536306, -0.03919069, -0.017122017, 0.011333516, 0.031267732, -0.034235526, 0.00799305, -0.013922487, 0.012613073, -0.0026595008, -0.06064449, -0.017808776, -0.022238009, -0.025193134, -0.055440877, 0.031242365, 0.043034352, -0.021270206, 0.014240668, -0.056885134, 0.03501377, -0.011250819, 0.0019657284, 0.03453625, 0.02095017, -0.05323135, 0.05129722, 0.04537852, 0.026909996, 0.00040541732, -0.0034220726, 0.016785305, 0.031041564, -0.035786703, 0.004061521, 0.0010630242, 0.0004038332, -0.0141460085, 0.028684538, -0.009984479, 0.008322657, 0.017702185, -0.06040728, 0.020507772, -0.035572007, -0.046380587, -0.0067293136, -0.040318426, 0.04214558, 0.005164159, -0.019308565, 0.038399402, -0.0076644253, 0.04898123, 0.0035013359, 0.0480977, -0.02166629, 0.026692199, 0.052901924, -0.023590207, -0.01871525, -0.020276029, 0.0063452153, -0.0619506, 0.052540656, -0.0475424, 0.0012285757, 0.014492829, 0.015518075, 0.00075326423, 0.04827904, -0.031340346, -0.0017058332, 0.012603998, 0.0152449235, 0.0154705355, 0.026149614, 0.010940128, -0.005301008, 0.0072628874, -0.04799979, 0.005634655, 0.009725295, 0.033800103, -0.030504687, 0.05782444, -0.0065594777, 0.024393354, -0.0022522907, -0.031316448, 0.0037154674, 0.01777108, 0.015774956, -0.036220435, -0.05439298, 0.030130148, -0.019631356, 0.0031805562, 0.021797186, 0.04716333, 0.025232041, -0.02030162, 0.007066151, 0.016134081, -0.04268176, -0.036442485, -0.018766642, 0.026716664, -0.035530165, -0.086760804, -0.038397588, 0.039979223, -0.022626536, 0.010718877, -0.007866386, 0.047652196, -0.008919645, 0.03478832, 0.052176144, -0.063175984, -0.016291222, 0.022002677, 0.022988718, 0.032133743, -0.019891191, -0.04529472, -0.010411945, -0.03178072, 0.033236187, -0.014294477, 0.0047152746, -0.035390764, 0.02704622, -0.026814114, 0.022614498, 0.018170903, -0.04225834, 0.0030600317, 0.030660048, 0.01167189, -0.07444068, 0.014176289, -0.041484576, 0.03795844, 0.006902043, 0.037958726, -0.030654915, 0.021466805, -0.031893376, -0.042323925, 0.044774063, 0.024272522, -0.030860638, 0.0075761164, -0.06611671, 0.017524315, -0.013695919, -0.010523121, -0.028222874, 0.015878975, 0.028128577, -0.032456987, 0.035960518, 0.031119768, -0.02238989, -0.007877529, -0.07874662, 0.014652778, 0.0043861717, -0.07826412, -0.038714856, -0.012835436, -0.007622744, -0.0050709946, -0.03972984, -0.012856433, -0.026474908, 0.041337308, -0.009666702, -0.036287885, 0.035002455, -0.024994703, 0.009476461, 0.054873705, 0.038064614, -0.011838631, 0.023756169, 0.028606463, -0.0007863121, 0.02541329, -0.05126604, 0.035169687, -0.05263814, 0.0025062596, 0.026920201, -0.006940267, 0.0027673258, 0.0042311214, 0.03361962, -0.02278697, -0.055115465, -0.0062117735, -0.019150672, -0.0030925432, 0.04343547, 0.006232358, 0.00415808, 0.031607993, -0.0004125509, 0.0052227634, 0.01200553, -0.04294288, 0.004762333, 0.015430477, 0.0019450701, 0.02228531, -0.018109, -0.033803426, 0.021173945, -0.016506169, -0.037732806, -0.029315699, 0.0075486344, -0.08372166, 0.014028475, -0.007074932, 0.015558175, -0.026646629, -0.019928949, 0.04100921, 0.035852656, -0.017541353, 0.012278222, -0.014357985, 0.019028358, 0.033109475, -0.029902644, -0.020138483, 0.054507263, -0.014375521, 0.0050298646, 0.03462274, -0.023118677, -0.008466249, -0.036290362, 0.058681905, -0.005589286, 0.003111407, -0.019079743, -0.05222185, -0.0010877412, 0.006790587, -0.009529498, 0.020342736, -0.010691883, -0.039880477, -0.0062603205, 0.0009677993, -0.035265066, -0.009457404, -0.023271967, -0.0023606995, 0.030067526, -0.0035331664, 0.03405642, 0.025245633, -0.0069113374, 0.031314913, -0.012832251, -0.031822857, -0.022620855, -0.0017580463, -0.017728398, 0.022961538, -0.0043410505, -0.027366422, 0.020202555, -0.051906954, -0.033721562, 0.010943859, -0.03952249, -0.06566271, -0.014132686, 0.023618354, 0.0036069774, 0.034533948, -0.0016115479, 0.030857818, 0.029617593, 0.014730993, -0.06257445, -0.048962522, -0.026781619, -0.08799308, 0.07044707, -0.037230678, -0.013378384, -0.06131443, 0.050227843, 0.010339942, -0.03155753, 0.063201025, 0.053107586, -0.003891386, 0.008993837, -0.020303063, 0.0065500513, 0.026537895, -0.018076198, -0.05812987, -0.011438632, -0.033953805, 0.004618804, -0.036362935, -0.027017081, -0.051068645, -0.026435804, 0.03561393, -0.0013611475, 0.0632229, -0.011197593, -0.045173835, -0.048710708, 0.04142473, 0.06143239, 0.006629971, 0.022698648, -0.021421703, -0.026416836, 0.040883206, 0.04272427, -0.027623152, 0.00018064967, 0.046464074, 0.022851685, -0.035391923, 0.0548048, 0.050912965, -0.036608063, -0.0056091007, -0.01630234, -0.008267627, -0.023869056, 0.026053715, 0.0082311835, -0.04189435, -0.004053608, 0.0039700554, 0.0395664, 0.013672174, 0.02677972, 0.021315094, 0.009369418, -0.0015140271, -0.013071556, 0.041091904, -0.03689349, 0.011504578, -0.046295132, 0.011649998, -0.01955045, -0.024815565, 0.053852826, -0.03685662, 0.03193625, -0.005896925, 0.0011556736, 0.04876826, 0.0020898618, -0.061464183, -0.0042978963, -0.020751204, -0.004187785, -0.0073534166, 0.008276221, 0.007933748, 0.011440245, -0.04856685, -0.003992083, 0.0201353, -0.003825724, -0.02850801, -0.0194899, -0.01699557, -0.07568208, -0.037463825, 0.0030259744, -0.024563733, -0.049572892, 0.004016012, 0.014784653, -0.006044768, 0.013157693, 0.022763535, -0.039719857, 0.09602347, -0.025159758, 0.0072012763, -0.060307793, -0.04770433, -0.040410228, 0.0197502, -0.011113534, 0.025914373, -0.007920038, 0.03512696, 0.0071093, 0.04500494, -0.00040933475, -0.019719075, -0.02952173, -0.025779217, -0.019889425, -0.0017000453, -0.008848758, 0.03135403, 0.064982064, -0.017531198, 0.024949579, -0.038316727, 0.008126978, -0.046340592, 0.009228386, -0.020244857, 7.025781e-05, 0.0041699074, -0.058359437, -0.030851094, -0.04237208, 0.015865054, 0.027599018, -0.02533478, -0.04170171, -0.004697892, -0.0068322457, 0.0403369, 0.050333463, 0.04089059, -0.037020262, 0.013727655, 0.014468775, 0.004048332, 0.0027229656, 0.026620248, 0.025991762, -0.0035014572, -0.030408632, 0.013146706, -0.0214793, -0.011525974, -0.019708708, -0.050424334, -0.03275013, -0.032970812, 0.041791506, -0.010952102, 0.021109845, 0.00071626715, -0.0074693803, -0.02879501, -0.07930155, 0.0146799525, -0.030548839, 0.015223369, 0.016626334, 0.031236637, -0.017304417, 0.042106774, -0.063745156, -0.0024189574, -0.004785182, -0.0032923908, -0.003289686, -0.013197919, -0.0062298016, -0.019817196, -0.024424562, -0.021551859, -0.011783266, 0.046578787, -0.036234144, -0.06583655, 0.0018864236, 0.0339219, 0.026499499, 0.0013058137, -0.045868516, 0.01644523, -0.015439057, -0.007824053, 0.0072187693, -0.0004372966, -0.011074636, 0.025257047, -0.019922307, 0.041914564, -0.05699062, 0.0061727087, 0.019476466, -0.04429556, 0.013722386, 0.0008891438, 0.06202854, -0.004928187, 0.030681351, 0.027821502, -0.004108703, 0.014682753, -0.025102995, -0.01988502, 0.06726152, 0.04677665, 0.040871046, 0.022370849, 0.024849653, 0.065715045, -0.0036528774, -0.01834514, 0.012109907, 0.032293335, -0.029490015, 0.04104295, -0.04356913, 0.0312818, -0.0033470255, -0.037065525, 0.01866943, -0.032656677, -0.0029523983, 0.041367836, -0.008238977, 0.04028741, 0.008071951, -0.010894461, -0.015563688, -0.055235095, 0.010203047, 0.027645618, 0.009160422, -0.04354049, -0.007843697, 0.013165567, 0.035847, 0.028252304, -0.008434546, 0.020718405, -0.050339434, -0.059569832, 0.0032673823, 0.007723622, -0.00017303354, 0.027132004, -0.04264722, 0.024818448, 0.010617414, -0.0356746, 0.0210356, -0.010684792, -0.034920998, -0.009889437, 0.049106687, -0.0006961172, 0.0197137, 0.0099373935, -0.016400987, -0.043106325, 0.06914675, -0.0031307444, 0.024387676, 0.0038422316, 0.080063224, -0.009895517, 0.0061636553, 0.036006328, -0.010607892, -0.017554823, 0.007412274, -0.016522596, -0.033982266, 0.006668921, 0.0012471539, 0.025394173, -0.017571071, -0.007070224, -0.030057961, 0.059313048, -0.0019330286, -0.050823852, 0.0019054201, -0.017374357, -0.036438756, 0.0024809416, 0.039515227, 0.051399358, -0.005033484, 0.011536689, -0.035713155, 0.0008363593, 0.035819862, -0.025146589, 0.04867868, -0.026651835, -0.07933656, -0.028244955, -0.038701262, 0.0073334323, 0.021951357, 0.00592828, -0.029970692, 0.02413373, 0.040966116, 0.004385856, 0.027009642, 0.0066320645, -0.012043643, 0.043913674, 0.041096084, -0.020686354, 0.022022849, 0.008764621, -0.002129767, -0.028794106, -0.08018514, 0.026264608, -0.003909239, -0.025695741, -0.037494086, 0.02714754, 0.00011576275, -0.033069085, 0.050524905, 0.0071693687, 0.038257606, 0.02572365, -0.06813231, 0.0072909524, -0.042007603, 0.011983457, -0.030788204, 0.05292278, -0.031227536, 0.011736969, 0.015904292, -0.04301746, 0.24046482, 0.04018554, 0.07303375, -0.019485041, -0.007893424, 0.0036472045, 0.017202904, -0.0060077393, -0.019954309, -0.0053098453, 0.01690864, 0.02148307, 0.033201627, -0.015888464, -0.00032222542, 0.06057757, -0.04889048, 0.010991904, -0.0059705046, -0.022862796, -0.006935337, 0.01382931, 0.0147926025, 0.03682575, -0.011994132, 0.00815686, 0.034082625, -0.039933424, 0.001175336, -0.014098395, 0.031849027, -0.0115781445, 0.011382288, 0.006904976, -0.019559084, 0.009474504, -0.0059286472, -0.02941517, -0.021743579, -0.0016442846, -0.015621741, -0.021661878, 0.056380693, -0.048737563, -0.03580249, -0.018517867, -0.03587399, 0.03023672, 0.01998098, -0.050713982, 0.040728733, -0.037196893, 0.028914481, -0.041554485, -0.04170976, -0.0046337442, -0.0056467205, -0.013482248, -0.010161181, -0.003627109, 0.02513899, -0.04111652, 0.01600207, -0.003823533, -0.03423088, 0.027784642, 0.040996682, 0.039734982, -0.014899673, 0.0027741536, 0.015525129, -0.06494487, 0.00023224916, -0.014955387, 0.019450547, 0.017103318, -0.01996706, 0.03664556, 0.020635141, -0.045282103, -0.015667673, -0.02947745, 0.02257876, -0.059421822, 0.0069260933, -0.006296227, -0.0026412997, 0.0074409335, -0.0028156557, 0.015411372, 0.038338184, 0.034444224, 0.002900951, -0.008477439, -0.0006996344]\n",
      "Length of tiger:  1024\n"
     ]
    }
   ],
   "source": [
    "embeddings = DartmouthEmbeddings()\n",
    "tiger = embeddings.embed_query(\"tiger\")\n",
    "print(tiger)\n",
    "print(\"Length of tiger: \", len(tiger))"
   ]
  },
  {
   "cell_type": "markdown",
   "metadata": {},
   "source": [
    "We see that the word \"tiger\" is represented by 1024 numbers. This means that the numeric representation of the word \"tiger\" consists of 1024 dimensions for this particular embedding model. Other models may use fewer or more numbers to represent a word. \n",
    "\n",
    "There are several benefits to having the embedding of a word, a primary one is that it gives us the ability to compare how close two words are in meaning. One way of simpling doing so is by taking the dot product. For example: "
   ]
  },
  {
   "cell_type": "code",
   "execution_count": 4,
   "metadata": {},
   "outputs": [
    {
     "name": "stdout",
     "output_type": "stream",
     "text": [
      "Similarity between tiger and lion:  0.78\n",
      "Similarity between tiger and eggs: 0.59\n"
     ]
    }
   ],
   "source": [
    "lion = embeddings.embed_query(\"lion\")\n",
    "eggs = embeddings.embed_query(\"eggs\")\n",
    "\n",
    "print(\"Similarity between tiger and lion: \", np.dot(tiger, lion).round(2))\n",
    "print(\"Similarity between tiger and eggs:\", np.dot(tiger, eggs).round(2))"
   ]
  },
  {
   "cell_type": "markdown",
   "metadata": {},
   "source": [
    "A better way to gain an understanding of this is to visualize it. However, since the data is in 1024 dimensions (an we are, unfotunately, not), we can display this data in a 2 dimensional format using UMAP. Let's generate several embeddings for this"
   ]
  },
  {
   "cell_type": "markdown",
   "metadata": {},
   "source": [
    "## Embedding a query"
   ]
  },
  {
   "cell_type": "code",
   "execution_count": 5,
   "metadata": {},
   "outputs": [],
   "source": [
    "llm = ChatDartmouth(model_name=\"llama-3-1-8b-instruct\", seed=42, temperature=0.0)\n",
    "parser = JsonOutputParser()\n",
    "\n",
    "chain = llm | parser\n",
    "\n",
    "response = chain.invoke(\n",
    "    \"Generate 30 different words that are well-suited to showcase how word embeddings work. \"\n",
    "    \"Draw the words from domains like animals, finance, and food. The food one should contain tomato \"\n",
    "    \"Return the words in JSON format, using the domain as the key, and the words as values. \"\n",
    ")"
   ]
  },
  {
   "cell_type": "code",
   "execution_count": 6,
   "metadata": {},
   "outputs": [],
   "source": [
    "words = pd.DataFrame.from_dict(response).melt(var_name=\"domain\", value_name=\"word\")"
   ]
  },
  {
   "cell_type": "code",
   "execution_count": 7,
   "metadata": {},
   "outputs": [],
   "source": [
    "embeddings = DartmouthEmbeddings(model_name=\"bge-large-en-v1-5\")\n",
    "words[\"embedding\"] = embeddings.embed_documents(words[\"word\"])"
   ]
  },
  {
   "cell_type": "code",
   "execution_count": 8,
   "metadata": {},
   "outputs": [],
   "source": [
    "mapper = umap.UMAP().fit(np.array(words[\"embedding\"].to_list()))"
   ]
  },
  {
   "cell_type": "code",
   "execution_count": 9,
   "metadata": {},
   "outputs": [
    {
     "data": {
      "text/html": [
       "<div>\n",
       "<style scoped>\n",
       "    .dataframe tbody tr th:only-of-type {\n",
       "        vertical-align: middle;\n",
       "    }\n",
       "\n",
       "    .dataframe tbody tr th {\n",
       "        vertical-align: top;\n",
       "    }\n",
       "\n",
       "    .dataframe thead th {\n",
       "        text-align: right;\n",
       "    }\n",
       "</style>\n",
       "<table border=\"1\" class=\"dataframe\">\n",
       "  <thead>\n",
       "    <tr style=\"text-align: right;\">\n",
       "      <th></th>\n",
       "      <th>domain</th>\n",
       "      <th>word</th>\n",
       "      <th>embedding</th>\n",
       "      <th>UMAP_x</th>\n",
       "      <th>UMAP_y</th>\n",
       "    </tr>\n",
       "  </thead>\n",
       "  <tbody>\n",
       "    <tr>\n",
       "      <th>0</th>\n",
       "      <td>animals</td>\n",
       "      <td>lion</td>\n",
       "      <td>[0.004938054, 0.01986977, 0.028288273, -0.0261...</td>\n",
       "      <td>3.223848</td>\n",
       "      <td>-4.289477</td>\n",
       "    </tr>\n",
       "    <tr>\n",
       "      <th>1</th>\n",
       "      <td>animals</td>\n",
       "      <td>tiger</td>\n",
       "      <td>[-0.0098512, 0.021645533, 0.020528702, 0.00051...</td>\n",
       "      <td>3.467324</td>\n",
       "      <td>-3.837233</td>\n",
       "    </tr>\n",
       "    <tr>\n",
       "      <th>2</th>\n",
       "      <td>animals</td>\n",
       "      <td>bear</td>\n",
       "      <td>[0.0003511402, 0.012336012, 0.02718864, 0.0056...</td>\n",
       "      <td>3.838266</td>\n",
       "      <td>-3.605968</td>\n",
       "    </tr>\n",
       "    <tr>\n",
       "      <th>3</th>\n",
       "      <td>animals</td>\n",
       "      <td>monkey</td>\n",
       "      <td>[0.0039162966, -0.022503398, -0.00079194736, 0...</td>\n",
       "      <td>3.504848</td>\n",
       "      <td>-4.752876</td>\n",
       "    </tr>\n",
       "    <tr>\n",
       "      <th>4</th>\n",
       "      <td>animals</td>\n",
       "      <td>giraffe</td>\n",
       "      <td>[-0.009479101, -0.02422396, -0.0004888569, 0.0...</td>\n",
       "      <td>4.049497</td>\n",
       "      <td>-4.505448</td>\n",
       "    </tr>\n",
       "  </tbody>\n",
       "</table>\n",
       "</div>"
      ],
      "text/plain": [
       "    domain     word                                          embedding  \\\n",
       "0  animals     lion  [0.004938054, 0.01986977, 0.028288273, -0.0261...   \n",
       "1  animals    tiger  [-0.0098512, 0.021645533, 0.020528702, 0.00051...   \n",
       "2  animals     bear  [0.0003511402, 0.012336012, 0.02718864, 0.0056...   \n",
       "3  animals   monkey  [0.0039162966, -0.022503398, -0.00079194736, 0...   \n",
       "4  animals  giraffe  [-0.009479101, -0.02422396, -0.0004888569, 0.0...   \n",
       "\n",
       "     UMAP_x    UMAP_y  \n",
       "0  3.223848 -4.289477  \n",
       "1  3.467324 -3.837233  \n",
       "2  3.838266 -3.605968  \n",
       "3  3.504848 -4.752876  \n",
       "4  4.049497 -4.505448  "
      ]
     },
     "execution_count": 9,
     "metadata": {},
     "output_type": "execute_result"
    }
   ],
   "source": [
    "umap_embeddings = pd.DataFrame(mapper.transform(np.array(words[\"embedding\"].to_list())), columns=[\"UMAP_x\", \"UMAP_y\"])\n",
    "# merge with the words\n",
    "words = pd.concat([words, umap_embeddings], axis=1)\n",
    "words.head(5)"
   ]
  },
  {
   "cell_type": "markdown",
   "metadata": {},
   "source": [
    "By using the UMAP algorithm, we are able to reduce the 1024 dimensional vector into a 2 dimensinoal one. We can now represent this as follows:"
   ]
  },
  {
   "cell_type": "code",
   "execution_count": 12,
   "metadata": {},
   "outputs": [
    {
     "data": {
      "image/png": "[encoded data removed]",
      "text/plain": [
       "<Figure size 640x480 with 1 Axes>"
      ]
     },
     "metadata": {},
     "output_type": "display_data"
    }
   ],
   "source": [
    "import seaborn as sns\n",
    "\n",
    "for i in words[\"domain\"].unique():\n",
    "    sns.scatterplot(data=words[words[\"domain\"] == i], x=\"UMAP_x\", y=\"UMAP_y\", label=i)\n",
    "    # add the text labels\n",
    "    for j in range(len(words)):\n",
    "        plt.text(\n",
    "            words[\"UMAP_x\"].iloc[j],\n",
    "            words[\"UMAP_y\"].iloc[j] + 0.13,\n",
    "            words[\"word\"].iloc[j],\n",
    "            horizontalalignment=\"center\",\n",
    "            verticalalignment=\"center\",\n",
    "            fontsize=7,\n",
    "        )"
   ]
  },
  {
   "cell_type": "markdown",
   "metadata": {},
   "source": [
    "We can see that groups with words related to foods, and animals, and finance all are grouped together. The embedding shows that it knows that these words are somewhat similar. "
   ]
  },
  {
   "cell_type": "markdown",
   "metadata": {},
   "source": [
    "## Embedding a document"
   ]
  },
  {
   "cell_type": "code",
   "execution_count": 13,
   "metadata": {},
   "outputs": [],
   "source": [
    "from langchain_dartmouth.llms import DartmouthLLM\n",
    "\n",
    "llm = ChatDartmouth(model_name=\"llama-3-1-8b-instruct\", seed=42, temperature=0.0)\n",
    "response1 = llm.invoke(\"Generate a 100 word text about dartmouth college and it's history and area\")\n",
    "\n",
    "llm = ChatDartmouth(model_name=\"llama-3-1-8b-instruct\", seed=45, temperature=0.8)\n",
    "response2 = llm.invoke(\"Generate a 100 word text about dartmouth college and it's history and area\")\n",
    "\n",
    "llm = ChatDartmouth(model_name=\"llama-3-1-8b-instruct\", seed=10, temperature=0.0)\n",
    "response3 = llm.invoke(\"Create 5 words of gibberish\")\n"
   ]
  },
  {
   "cell_type": "code",
   "execution_count": 14,
   "metadata": {},
   "outputs": [
    {
     "name": "stdout",
     "output_type": "stream",
     "text": [
      "Dartmouth College, located in Hanover, New Hampshire, is the ninth oldest institution of higher education in the United States. Founded in 1769 by Eleazar Wheelock, it was initially established to educate Native American students and prepare them for the ministry. The college's name is derived from William Legge, the 2nd Earl of Dartmouth, who provided significant financial support. Nestled in the picturesque Upper Valley region, Dartmouth's campus spans over 269 acres, offering breathtaking views of the Connecticut River. With a rich history and academic excellence, Dartmouth has become a premier liberal arts institution, attracting students from around the world.\n",
      "Dartmouth College, located in Hanover, New Hampshire, is one of the oldest and most prestigious institutions of higher learning in the United States. Founded in 1769 by Reverend Eleazar Wheelock, the college was originally intended to educate Native American students, but it quickly evolved into a liberal arts college educating students from across the country. Nestled in the picturesque Upper Valley, Dartmouth's picturesque campus features a mix of modern and historic architecture. With its rich academic and extracurricular traditions, Dartmouth has produced numerous notable alumni, including US presidents, Nobel laureates, and business leaders, shaping the world since its founding.\n",
      "Here are 5 words of gibberish:\n",
      "\n",
      "1. Flumplen\n",
      "2. Grooblax\n",
      "3. Jinklewiff\n",
      "4. Klabloom\n",
      "5. Zorvath\n"
     ]
    }
   ],
   "source": [
    "print(response1.content)\n",
    "print(response2.content)\n",
    "print(response3.content)"
   ]
  },
  {
   "cell_type": "code",
   "execution_count": 139,
   "metadata": {},
   "outputs": [],
   "source": [
    "import numpy as np\n",
    "\n",
    "def get_embeddings(response, upper_limit=400):\n",
    "    words = response.split(\" \")\n",
    "    embedding_list = []\n",
    "    chunks = [words[i:i + 32] for i in range(0, upper_limit, 32)]\n",
    "    for chunk in chunks:\n",
    "        embeddings = DartmouthEmbeddings(model_name=\"bge-large-en-v1-5\")\n",
    "        embedding_list.append(embeddings.embed_documents(chunk))\n",
    "    return np.concatenate(embedding_list)\n"
   ]
  },
  {
   "cell_type": "code",
   "execution_count": 157,
   "metadata": {},
   "outputs": [],
   "source": [
    "import wikipediaapi\n",
    "\n",
    "def get_wikipedia_page_text(page_title, language=\"en\"):\n",
    "    # Create a user-agent string\n",
    "    user_agent = \"CoolBot/0.0 (https://example.org; coolbot@example.org)\"\n",
    "    \n",
    "    # Initialize Wikipedia API with the user agent\n",
    "    wiki_wiki = wikipediaapi.Wikipedia(\n",
    "        language=language,\n",
    "        user_agent=user_agent\n",
    "    )\n",
    "    \n",
    "    # Fetch the page\n",
    "    page = wiki_wiki.page(page_title)\n",
    "    \n",
    "    if page.exists():\n",
    "        return page.text\n",
    "    else:\n",
    "        return \"Page not found\"\n",
    "\n",
    "# Example usage\n",
    "page_title = \"Dartmouth College\"\n",
    "dartmouth_text = get_wikipedia_page_text(page_title)\n",
    "french_text = get_wikipedia_page_text(\"Claude Cohen-Tannoudji\", \"fr\")\n",
    "Ivy_league_text = get_wikipedia_page_text(\"Ivy League\")"
   ]
  },
  {
   "cell_type": "code",
   "execution_count": 148,
   "metadata": {},
   "outputs": [
    {
     "data": {
      "text/plain": [
       "'The Board of Trustees of Dartmouth College is the governing body of Dartmouth College, an Ivy League university located in Hanover, New Hampshire, United States. As of September 5, 2008, the Board includes twenty-three people. The current Chair of the Board is Stephen Mandel Jr..\\nThe Board of Trustees describes itself as having \"ultimate responsibility for the financial, administrative and academic affairs of the College\". Among its responsibilities are the appointment of the President of the College and the approval of institutional policies.\\n\\nComposition\\nOf the twenty-three current members, two are traditionally described as trustees ex officio, eight as alumni trustees, and thirteen as charter trustees. The Charter mandates that the Governor of New Hampshire always be a trustee ex officio, and the Board traditionally makes the current President of Dartmouth College a member in a similar capacity. Both trustees ex officio may participate fully in Board affairs, although most Governors do not.  All but the Governor are elected by majority vote of the Board, as the Charter requires. The trustees other than the Governor and the president are known as the \"elected Trustees\". Eight of the elected Trustees are nominated by alumni of the College and thirteen are nominated by a committee within the Board.\\n\\nNomination of alumni trustees\\nThe process of nomination and election involves several steps. The Dartmouth Alumni Council proposes one or two candidates per vacancy or when a new alumni trustee seat is created. Any alumnus/a who collects at least 500 alumni signatures may join the candidates on the ballot as a petition candidate. Then the Association of Alumni polls all Dartmouth alumni by paper and electronic ballots, using a preference voting system, to select the nominee or nominees. Finally, the Board traditionally elects the alumni nominee.\\n\\nHistory\\nThe system of alumni balloting to determine a nominee dates to the late nineteenth century. In 1876, Dartmouth\\'s Board of Trustees resolved to fill some upcoming vacancies with alumni. Vacancies were rare at the time, however, and the number of alumni seated was small; most of the members of the Board were still elderly non-alumni clergymen who were seen as theologically and educationally conservative.  \\nIn 1891, in what came to be known as \"The 1891 Agreement\", the Board of Trustees resolved to elect five trustees who had been nominated by the alumni of five years\\' standing.  The nomination process would be handled by the Association of Alumni of Dartmouth College, of which every matriculated student becomes a member automatically upon graduation. Soon after the Board issued its 1891 resolution, five members resigned to open seats for the new nominees, and Dartmouth\\'s first effective means of granting alumni influence on the composition of its Board was under way; the arrangement was described as being based on the system in use at Williams College.\\nThe Board has expanded three times since it was created as a twelve-person organization in 1769.  The New Hampshire Legislature approved an amendment to the Charter that expanded the Board to sixteen in 1961.  In 2003, the Board grew to eighteen and stated plans to reach twenty-two. This expansion was the Board\\'s first act under its new authority to amend its own charter, an authority granted by the Legislature during the same period. During each expansion, the Board described half of the newly created seats as being those of \"alumni trustees\". The Board amended the Charter again to expand its maximum size to twenty-six in 2008.\\n\\nChanges in the process\\nDuring the early twentieth century, much of the contact alumni had with the College was through Dartmouth\\'s Class Secretaries Association, a group made up of the secretaries of the various alumni class organizations. In 1913, the Class Secretaries Association recommended that the Association of Alumni create a group to advise the general Association.  The group was called the Alumni Council, and in 1915 the Association transferred to it the authority to put the names of potential alumni trustees on the ballot for the alumni to select as their nominee to the Board. The Alumni Council retains that authority today.\\nThe Board of Trustees has also made changes to the process over time.  The Board no longer restricts the voting for nominees to the alumni of the particular schools listed in the 1891 resolution, nor does it prohibit alumni of less than five years\\' standing from participation.  In 1961, the Board permitted the Association to nominate a further two alumni, and it added a third (reaching the present total of eight nominees) in 2003.  In 1990, the Board resolved to re-elect some alumni nominees for second terms in the future.  The Association of Alumni made a corresponding amendment to its constitution at the same time in order to avoid the possibility that a nomination process would start upon the conclusion of a re-elected alumni trustee\\'s first term.\\n\\nRecent controversies\\nIn 2004, T. J. Rodgers sought the alumni nomination as a petition candidate and won the balloting, after which the Board elected him as its newest trustee. His nomination by petition was an unusual occurrence, since alumni candidates are typically nominated by the Alumni Council. The only previous petition candidate to successfully be seated on the Board was John Steel in 1980. In 2005, petition candidates Todd Zywicki and Peter Robinson similarly won nominations to the Board.  Because they were critical of the College administration and were described as \"outsiders,\" the conservative student paper The Dartmouth Review called their election \"The Lone Pine Revolution\" and described it as \"the most significant event in [Dartmouth\\'s] recent history\". Stephen Smith, the fourth petition candidate, also critical of the direction of the College, won the nomination in 2007.\\nIn 2006, an Alumni Association committee proposed a new version of the organization\\'s constitution that would have altered the process of nominating trustees, in part by re-incorporating the Alumni Council within the Association.  The proposal was debated fiercely, with opponents arguing that it would tilt the election rules in favor of candidates selected by the Alumni Council or its successor and against petition candidates.  Proponents argued that the constitution would solve longstanding organizational problems for the Association of Alumni and the Alumni Council.  Amid significant voter turnout, a majority of alumni voted against adopting the new constitution, which would have required a two-thirds supermajority for passage.\\nIn 2007, the Board announced that its Governance Committee would complete a periodic review of the Board\\'s practices at the Board meeting of early September. Some alumni took this and other announcements to mean that the Board would reduce the number of alumni trustees or ask the Alumni Council to alter its nomination process, and a new controversy erupted. Newly formed groups created websites and took out advertisements in The New York Times and elsewhere meant to influence the Board\\'s decision.\\nIn September 2007, the Board decided to amend the Charter to add eight new trustee seats, expanding the size of the group from eighteen to twenty-six seats. In deciding how the new members would be nominated, the Board stated that it would retain the existing number of eight alumni trustees and make all eight new members charter trustees. Thus, the proportion of alumni-nominated trustees would fall from 44.4 percent of the Board to 30.7 percent, dropping from half of the elected trustees to one-third.\\nThe Board\\'s decision sparked controversy among alumni.  The majority of the Association\\'s Executive Committee sued the Board in an attempt to block the change, although the new set of officers elected in June 2008 withdrew the lawsuit. New Hampshire state Representative Maureen Mooney (R-Merrimack) drafted a bill that would force the Board to cede some control over the amendment of its Charter to the state, although it was not the Charter amendment itself that was controversial. As introduced into committee, the legislation would have repealed an act of 2003 that finally gave the Board the right to amend its Charter without consulting the state. Mooney stated that the recent governance changes at the College were a reason for her sponsorship of the bill.  In February 2008, Mooney\\'s bill was voted down in the commerce committee, and the New Hampshire House of Representatives voted against the bill on March 5, 2008.\\nIn September 2008, the Board began the expansion announced the year before by electing five alumni to the Board as charter trustees.\\n\\nCurrent trustees\\nNotable past trustees\\nReferences\\nExternal links\\n\\nBoard of Trustees\\nStatement by Former Maine Governor Angus King'"
      ]
     },
     "execution_count": 148,
     "metadata": {},
     "output_type": "execute_result"
    }
   ],
   "source": [
    "dartmouth_board_text"
   ]
  },
  {
   "cell_type": "code",
   "execution_count": 170,
   "metadata": {},
   "outputs": [],
   "source": [
    "dartmouth_embedding = get_embeddings(dartmouth_text)\n",
    "\n",
    "# get embedding of something random \n"
   ]
  },
  {
   "cell_type": "code",
   "execution_count": 171,
   "metadata": {},
   "outputs": [],
   "source": [
    "french_embedding = get_embeddings(french_text)"
   ]
  },
  {
   "cell_type": "code",
   "execution_count": 172,
   "metadata": {},
   "outputs": [],
   "source": [
    "Ivy_league_embedding = get_embeddings(Ivy_league_text)"
   ]
  },
  {
   "cell_type": "code",
   "execution_count": 173,
   "metadata": {},
   "outputs": [
    {
     "name": "stdout",
     "output_type": "stream",
     "text": [
      "Similarity between Dartmouth College and Claude Cohen-Tannoudji:  0.56\n"
     ]
    }
   ],
   "source": [
    "# get the centroid of the embeddings\n",
    "dartmouth_centroid = np.mean(dartmouth_embedding, axis=0)\n",
    "french_centroid = np.mean(french_embedding, axis=0)\n",
    "\n",
    "# find the similarity between the centroid and the random word\n",
    "similarity = np.dot(dartmouth_centroid, french_centroid)\n",
    "print(\"Similarity between Dartmouth College and Claude Cohen-Tannoudji: \", similarity.round(2))"
   ]
  },
  {
   "cell_type": "code",
   "execution_count": 174,
   "metadata": {},
   "outputs": [
    {
     "name": "stdout",
     "output_type": "stream",
     "text": [
      "Similarity between Dartmouth College and Ivy League:  0.95\n"
     ]
    }
   ],
   "source": [
    "# get the centroid of the embeddings\n",
    "dartmouth_centroid = np.mean(dartmouth_embedding, axis=0)\n",
    "Ivy_league_embedding = np.mean(french_embedding, axis=0)\n",
    "\n",
    "similarity = np.dot(dartmouth_centroid, Ivy_league_embedding)/ (np.linalg.norm(dartmouth_centroid) * np.linalg.norm(Ivy_league_embedding))\n",
    "print(\"Similarity between Dartmouth College and Ivy League: \", similarity.round(2))\n"
   ]
  },
  {
   "cell_type": "code",
   "execution_count": 178,
   "metadata": {},
   "outputs": [
    {
     "name": "stdout",
     "output_type": "stream",
     "text": [
      "Similarity between Dartmouth College and Claude Cohen-Tannoudji:  0.56\n",
      "Similarity between Dartmouth College and Dartmouth Board:  0.59\n"
     ]
    }
   ],
   "source": [
    "# given these embeddings we can now use them to find the similarity between the two documents\n",
    "# we can also use them to find the similarity between the two documents and a random word\n",
    "\n",
    "# get the centroid of the embeddings\n",
    "dartmouth_centroid = np.mean(dartmouth_embedding, axis=0)\n",
    "french_centroid = np.mean(french_embedding, axis=0)\n",
    "\n",
    "# find the similarity between the centroid and the random word\n",
    "similarity = np.dot(dartmouth_centroid, french_centroid)\n",
    "print(\"Similarity between Dartmouth College and Claude Cohen-Tannoudji: \", similarity.round(2))\n",
    "\n",
    "dartmouth_board_centroid = np.mean(dartmouth_board_embedding, axis=0)\n",
    "\n",
    "similarity = np.dot(dartmouth_centroid, dartmouth_board_centroid)\n",
    "print(\"Similarity between Dartmouth College and Dartmouth Board: \", similarity.round(2))"
   ]
  },
  {
   "cell_type": "markdown",
   "metadata": {},
   "source": [
    "# Uses"
   ]
  }
 ],
 "metadata": {
  "kernelspec": {
   "display_name": ".venv",
   "language": "python",
   "name": "python3"
  },
  "language_info": {
   "codemirror_mode": {
    "name": "ipython",
    "version": 3
   },
   "file_extension": ".py",
   "mimetype": "text/x-python",
   "name": "python",
   "nbconvert_exporter": "python",
   "pygments_lexer": "ipython3",
   "version": "3.12.6"
  }
 },
 "nbformat": 4,
 "nbformat_minor": 2
}
