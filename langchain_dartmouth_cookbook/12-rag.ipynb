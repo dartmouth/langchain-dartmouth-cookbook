{
 "cells": [
  {
   "cell_type": "markdown",
   "metadata": {},
   "source": [
    "# Retrieval Augemented Generation (RAG)"
   ]
  },
  {
   "cell_type": "markdown",
   "metadata": {},
   "source": [
    "In the prevous two recepies, we learned how to [obtain an embedding](./10-embeddings.ipynb), as well as how to find the [similarity](./11-similarity-search.ipynb) between two embeddings. Retrievel Augmente Generation uses both of these to achieve the goal of querying an LLM and also providing some documents for additional context. For example, if you want the LLM to answer some questions based on specific documents you have, you can feed those documents in \n",
    "\n",
    "A RAG model is primarily made up of two components, the retriever, and the reader"
   ]
  },
  {
   "cell_type": "code",
   "execution_count": 1,
   "metadata": {},
   "outputs": [],
   "source": [
    "from langchain.docstore.document import Document\n",
    "from langchain_dartmouth.retrievers.document_compressors import DartmouthReranker\n",
    "from langchain.document_loaders import DirectoryLoader\n",
    "from langchain.document_loaders import TextLoader"
   ]
  },
  {
   "cell_type": "markdown",
   "metadata": {},
   "source": [
    "<div class=\"alert alert-info\">\n",
    "\n",
    "**Note:** The `DirectoryLoader` function is a part of LangChain that accepts a directory, a regex expression, and a [loader class](./10-embeddings.ipynb). It's an easy way to load several documents that are in a directory at once\n",
    "</div>"
   ]
  },
  {
   "cell_type": "code",
   "execution_count": 3,
   "metadata": {},
   "outputs": [
    {
     "data": {
      "text/plain": [
       "[Document(metadata={'source': 'rag_documents\\\\asteroids.txt'}, page_content=\"**Asteroids: The Mysterious and Ancient Building Blocks of Our Solar System**\\n\\nAsteroids, also known as minor planets or planetoids, are small, rocky objects that orbit the Sun. They are remnants from the early days of our solar system, and their study has provided valuable insights into the formation and evolution of the cosmos. These mysterious bodies have captivated the imagination of scientists and researchers for centuries, and their exploration continues to uncover new secrets about the universe.\\n\\n**Composition and Types of Asteroids**\\n\\nAsteroids are typically small, with diameters ranging from a few meters to hundreds of kilometers. They are composed of rock, metal, and ice, and are thought to be the remnants of the early solar system. There are two main types of asteroids: stony asteroids, which are composed mostly of silicate minerals, and metal asteroids, which are rich in iron and nickel.\\n\\nThe largest asteroid, Ceres, is located in the asteroid belt between Mars and Jupiter and is the only one in our solar system that is rounded in shape, indicating that it may have once been a small planet. Ceres is also home to a surprising presence of organic compounds, water ice, and a possible subsurface ocean, making it a fascinating target for astrobiological research.\\n\\n**Asteroid Belts and the Formation of the Solar System**\\n\\nThe asteroid belt is the region between Mars and Jupiter where most asteroids are found. It's believed that the asteroid belt is the remnant of a planet that never formed, or one that was destroyed by the massive gravitational forces of the nearby gas giants. The asteroid belt is thought to have formed from the leftover material that couldn't coalesce into planets, and the small bodies in this region are a testament to the complex and dynamic processes that shaped the early solar system.\\n\\n**Asteroid Impact and Earth's History**\\n\\nAsteroids have played a significant role in shaping the history of our planet. The impact of a large asteroid is believed to have caused the extinction of the dinosaurs 65 million years ago. The Chicxulub crater in Mexico, formed by a massive asteroid impact, is one of the most well-documented instances of an asteroid collision, and is thought to be the cause of the mass extinction event.\\n\\nIn recent years, there has been a growing interest in exploring asteroids as a source of natural resources, such as water and precious metals. NASA's OSIRIS-REx mission, launched in 2016, successfully returned samples from the asteroid Bennu, providing valuable insights into the composition and origin of these ancient bodies.\\n\\n**Exploration and Scientific Significance**\\n\\nThe study of asteroids has numerous scientific and practical implications. By studying asteroids, scientists can gain insights into the formation and evolution of the solar system, and understand the processes that shape our planet. Asteroids can also provide valuable resources, such as water and metals, that could be used to support human exploration and settlement of space.\\n\\nThe exploration of asteroids has already led to groundbreaking discoveries, such as the detection of water and organic compounds on Ceres and at the asteroid Vesta. Future missions, such as NASA's Artemis program, are planned to explore and exploit the resources of the Moon and asteroids, marking a new era in space exploration.\\n\\nIn conclusion, asteroids are fascinating and complex objects that hold the secrets of our solar system's early days. Their study has provided valuable insights into the origin and evolution of our planet, and has implications for our understanding of the universe. As exploration of asteroids continues, we can expect to uncover new secrets about these mysterious bodies and their role in shaping our understanding of the cosmos.\"),\n",
       " Document(metadata={'source': 'rag_documents\\\\history.txt'}, page_content=\"**Course Document:**\\n\\n**Course Title:** Understanding the Past: A Survey of Modern History\\n\\n**Course Description:** This course provides a comprehensive introduction to modern history, from the Enlightenment to the present day. Students will explore the key events, themes, and ideas that have shaped the world over the past five centuries. Through lectures, discussions, readings, and assignments, students will develop a deeper understanding of the complexities of historical events and the ways in which they continue to influence our lives today.\\n\\n**Course Objectives:**\\n\\n* To understand the major events, movements, and ideas of modern history, including the Enlightenment, the French Revolution, the Industrial Revolution, and the two World Wars.\\n* To analyze the impact of historical events on contemporary society, including the relationships between politics, economy, culture, and international relations.\\n* To develop critical thinking, research, and writing skills through the analysis of historical sources and primary materials.\\n* To foster a deeper understanding of the global and comparative perspectives of modern history.\\n\\n**Course Outline:**\\n\\n**Week 1: Introduction to Modern History**\\n\\n* Overview of the course\\n* Introduction to the major trends and themes of modern history\\n* The Enlightenment and its legacy\\n\\n**Week 2-3: The Age of Revolution**\\n\\n* The French Revolution and its impact on European society\\n* The American Revolution and its significance in the development of modern democracy\\n* The Haitian Revolution and its legacy in the Caribbean\\n\\n**Week 4-5: Industrialization and Capitalism**\\n\\n* The Industrial Revolution and its impact on the economy and society\\n* The rise of capitalism and its critics, including Marx and Engels\\n* The response to industrialization: social movements and labor activism\\n\\n**Week 6-7: Imperialism and Globalization**\\n\\n* The Scramble for Africa and the rise of European imperialism\\n* The impact of imperialism on indigenous populations and global economies\\n* The rise of globalization and its implications for the global economy\\n\\n**Week 8-9: Two World Wars**\\n\\n* The causes and consequences of World War I\\n* The collapse of empires and the rise of fascist and communist regimes in Europe\\n* The impact of World War II on the global order and the emergence of the United States and Soviet Union as superpowers\\n\\n**Week 10-11: The Cold War and its Legacy**\\n\\n* The origins and development of the Cold War\\n* The role of nuclear weapons in shaping international relations\\n* The impact of the Cold War on global democratization, human rights, and the global economy\\n\\n**Week 12: Modern Revolutions and Resistance**\\n\\n* The Prague Spring and the rise of Velvet Revolution\\n* The US Civil Rights Movement and its impact on the global movement for human rights\\n* The human rights movement worldwide, from the one in Africa to the Rassemblement Opposant Acorde dans le prÃ©sent mode abulant (ROAM)\\n\\n**Assessment:**\\n\\n* Weekly readings and lecture attendance (20%)\\n* Midterm exam (25%)\\n* Final research paper (30%)\\n* Class participation and engagement (15%)\\n* Final exam (10%)\\n\\n**Required Textbooks and Materials:**\\n\\n* _A Problem from Hell: America in the Age of Genocide_ by Samantha Power\\n* _Capitalism: A Very Short Introduction_ by James Fulcher\\n* _A Victory of Reason: How Western Liberalism Weht the Way the World LearaciÃ³n Currently_\\nby Winston Leonard Radin.\\n* Complimentary historical photos.\\n\\n**Additional Resources:**\\n\\n* Online access to library databases and academic journals\\n* Digital resources, including podcasts, videos, and interactive timelines.\\n\\n**Attendance and Participation:**\\n\\nRegular attendance and active participation in class are expected of all students. At least 75% attendance will be considered satisfactory. Office hours will be held with the instructor on [insert day and time] for individual consultation and discussion.\\n\\n**Modification Accommodation:**\\n\\nThe instructor is committed to creating an inclusive learning environment and will provide necessary accommodations for students with documented disabilities. If you have any concerns or require modification, please contact the instructor and the university's Student Services department for support.\\n\\n**Important Dates:**\\n\\n* First day of class: [Insert date]\\n* Last day of class: [Insert date]\\n* Midterm exam: [Insert date]\\n* Final research paper due: [Insert date]\\n* Final exam: [Insert date]\\n\\n**Contact Information:**\\n\\nInstructor: [Your Name]\\nOffice Hours: [Insert day and time]\\nOffice Location: [Insert location]\\nEmail: [Your email]\\nPhone: [Your phone number]\\n\\n**Grading Scale:**\\n\\nA: 90-100%\\nB: 80-89%\\nC: 70-79%\\nD: 60-69%\\nF: Below 60%\\n\\nThis document outlines the structure and requirements of the course, including the syllabus, course description, and expectations for student participation and engagement. It also outlines the grading criteria and the procedures for requesting accommodations and modifications.\\n\\nThis assessment form will help guide your course.\\n\\n**Evaluation of Teaching**\\n\\n1. Clearness and relevance of the curriculum.\\n2. Teacher's exposition of the subject.\\n\"),\n",
       " Document(metadata={'source': 'rag_documents\\\\hot_sauce.txt'}, page_content='### Hot Sauce: A Fiery Delight That Transcends Cultures\\n\\nHot sauce is more than just a condiment; it is a cultural phenomenon that spans continents and traditions, bringing a fiery kick to culinary creations worldwide. Made from chili peppers, vinegar, and other seasonings, hot sauce offers a spectrum of flavors, from mild tang to searing heat that can make even the bravest diners break a sweat. Its versatility and the sheer variety of its formulations make it a staple in kitchens everywhere.\\n\\n#### The History of Hot Sauce\\nThe origins of hot sauce date back thousands of years to the Americas, where indigenous peoples first cultivated chili peppers. Archaeological evidence suggests that chili peppers were being used as far back as 7000 BC. When Christopher Columbus encountered chili peppers in the late 15th century, their popularity quickly spread across Europe, Africa, and Asia, becoming an essential ingredient in countless cuisines. Over time, hot sauce evolved into a bottled product, with Tabasco sauce, first produced in 1868 in Louisiana, being one of the earliest commercially available brands.\\n\\n#### Ingredients and Heat Levels\\nAt the heart of every hot sauce is the chili pepper, which determines its heat level and flavor profile. The Scoville scale, developed in 1912, measures the heat intensity of chili peppers based on the concentration of capsaicin, the compound responsible for their spiciness. Peppers like bell peppers rank at zero on the scale, while the Carolina Reaper, one of the hottest peppers in the world, exceeds two million Scoville Heat Units (SHU).\\n\\nWhile chili peppers are the cornerstone, other ingredients add depth and complexity. Vinegar provides a tangy acidity, while salt, garlic, onions, and spices enhance the overall flavor. Some hot sauces incorporate fruits like mango or pineapple for a sweet and spicy contrast, while others include smoky elements, such as chipotle peppers, to deliver a rich, layered taste.\\n\\n#### Hot Sauce Around the World\\nHot sauce is a global phenomenon, with each region putting its unique spin on the classic condiment:\\n- **Mexico**: Mexican hot sauces like Cholula and Valentina are known for their medium heat and focus on flavor. They often feature red or green chilies blended with lime juice, garlic, and spices.\\n- **United States**: The U.S. boasts a rich tradition of hot sauces, ranging from Louisiana-style vinegar-based sauces to modern craft creations using exotic peppers. Buffalo sauce, a mix of hot sauce and butter, is a distinctly American innovation.\\n- **Asia**: In Asia, hot sauces like Thailandâ€™s Sriracha and Koreaâ€™s Gochujang showcase the region\\'s love for spice. Sriracha, a blend of red chili, garlic, sugar, and vinegar, has become a worldwide sensation.\\n- **Africa**: Harissa, a North African chili paste, combines red peppers, garlic, and spices like coriander and cumin for a bold and aromatic heat.\\n- **Caribbean**: Caribbean hot sauces, often made with Scotch bonnet or habanero peppers, bring a fruity heat, frequently paired with tropical fruits like mango.\\n\\n#### The Culture of Spice\\nHot sauce is more than an ingredient; it is a lifestyle for spice enthusiasts. The growing \"heat culture\" has inspired everything from hot sauce festivals to extreme eating challenges featuring the hottest sauces on the planet. For many, the pursuit of the perfect balance of heat and flavor is a thrilling adventure.\\n\\n#### Health Benefits\\nCapsaicin, the active component in chili peppers, offers more than just heat. Studies suggest it may boost metabolism, improve circulation, and even alleviate pain. Hot sauce, typically low in calories and fat, can be a flavorful way to enhance meals without adding unhealthy ingredients.\\n\\n### Conclusion\\nHot sauceâ€™s appeal lies in its ability to transform even the simplest dishes into something extraordinary. Whether you prefer a subtle tingle or a fiery explosion, hot sauce invites you to explore a world of flavors, heat levels, and cultural traditions. For spice lovers, it is not just a condiment but a way of life.')]"
      ]
     },
     "execution_count": 3,
     "metadata": {},
     "output_type": "execute_result"
    }
   ],
   "source": [
    "loader = DirectoryLoader('./rag_documents', glob=\"**/*.txt\", loader_cls=TextLoader)\n",
    "collection = loader.load()\n",
    "collection"
   ]
  },
  {
   "cell_type": "markdown",
   "metadata": {},
   "source": [
    "Given a **collection** of documents, we are interested in finding the ones most relevent to our question. Once a query is posed, the `compress_documents()` function from the `DartmouthReranker` class can be used, which uses the concept about [similarity](./11-similarity-search.ipynb), to return a list of documents which are most relevant to the query."
   ]
  },
  {
   "cell_type": "code",
   "execution_count": 11,
   "metadata": {},
   "outputs": [],
   "source": [
    "reranker = DartmouthReranker()"
   ]
  },
  {
   "cell_type": "code",
   "execution_count": 12,
   "metadata": {},
   "outputs": [
    {
     "name": "stdout",
     "output_type": "stream",
     "text": [
      "rag_documents\\asteroids.txt\n",
      "rag_documents\\hot_sauce.txt\n",
      "rag_documents\\history.txt\n"
     ]
    }
   ],
   "source": [
    "from langchain_dartmouth.llms import ChatDartmouth\n",
    "\n",
    "query = \"Are asteroids going to hit me?\"\n",
    "ranked_docs = reranker.compress_documents(query=query, documents=collection)\n",
    "\n",
    "for doc in ranked_docs:\n",
    "    print(doc.metadata['source'])"
   ]
  },
  {
   "cell_type": "markdown",
   "metadata": {},
   "source": [
    "<div class=\"alert alert-info\">\n",
    "\n",
    "**Note:** We can see that when our query is related to asteroids, the document correcly ranks the asteroids.txt as the most relevent document. Now, we can prepend the content of the first ranked document to our query to get a response which considers the information in the document\n",
    "</div>"
   ]
  },
  {
   "cell_type": "code",
   "execution_count": 13,
   "metadata": {},
   "outputs": [
    {
     "name": "stdout",
     "output_type": "stream",
     "text": [
      "content=\"The likelihood of an asteroid hitting you is extremely low. According to NASA, the chances of being hit by a large asteroid are extremely small. In fact, the chances of being struck by a meteorite (a small asteroid or fragment) are about 1 in 1,000,000.\\n\\nMost asteroids are small and burn up in the atmosphere before they can cause any damage. Even larger asteroids that are on a collision course with Earth are usually detected by astronomers and scientists years in advance, allowing for potential deflection or disruption of their trajectory.\\n\\nNASA and other space agencies around the world are actively monitoring the skies for near-Earth asteroids (NEAs) and have developed various strategies to prevent or mitigate potential asteroid impacts. These strategies include:\\n\\n1. Detection: Using powerful telescopes and advanced technologies to detect and track NEAs.\\n2. Tracking: Monitoring the orbits of NEAs to predict their paths and potential impacts.\\n3. Deflection: Using various methods to alter the trajectory of an asteroid, such as gravitational tractors, kinetic impactors, or nuclear explosions.\\n4. Disruption: Breaking apart an asteroid into smaller fragments, which would reduce the impact's severity.\\n\\nWhile the risk of an asteroid impacting you is low, it's essential to note that asteroid impacts can still occur, as evidenced by the Chicxulub crater in Mexico. However, the chances of being directly affected by an asteroid impact are incredibly small.\\n\\nTo put your mind at ease, consider the following:\\n\\n* The odds of being hit by a meteorite are about 1 in 1,000,000.\\n* The chances of being in a location directly affected by an asteroid impact are even lower.\\n* NASA and other space agencies are actively working to detect and mitigate potential asteroid threats.\\n\\nSo, while it's always a good idea to stay informed about asteroid risks and follow guidelines from space agencies, the likelihood of an asteroid hitting you is extremely low.\" additional_kwargs={'refusal': None} response_metadata={'token_usage': {'completion_tokens': 388, 'prompt_tokens': 781, 'total_tokens': 1169, 'completion_tokens_details': None, 'prompt_tokens_details': None}, 'model_name': 'llama-3-1-8b-instruct', 'system_fingerprint': '3.0.1-sha-bb9095a', 'finish_reason': 'stop', 'logprobs': None} id='run-f4be07ff-68bf-4a06-bb4f-923f5b2c279e-0' usage_metadata={'input_tokens': 781, 'output_tokens': 388, 'total_tokens': 1169, 'input_token_details': {}, 'output_token_details': {}}\n"
     ]
    }
   ],
   "source": [
    "llm = ChatDartmouth(model_name=\"llama-3-1-8b-instruct\")\n",
    "response = llm.invoke(ranked_docs[0].page_content + 'Considering this, answer the following question:' +  query)\n",
    "print(response)"
   ]
  },
  {
   "cell_type": "markdown",
   "metadata": {},
   "source": [
    "# Summary\n",
    "In this recipe we use a query and `DartmouthReranker` to retrieve relative documents from a **collection**. The content of the highest ranked document is then prepended in the a prompt to an llm. This is an implementation of retreival augmented generation."
   ]
  },
  {
   "cell_type": "markdown",
   "metadata": {},
   "source": []
  }
 ],
 "metadata": {
  "kernelspec": {
   "display_name": ".venv",
   "language": "python",
   "name": "python3"
  },
  "language_info": {
   "codemirror_mode": {
    "name": "ipython",
    "version": 3
   },
   "file_extension": ".py",
   "mimetype": "text/x-python",
   "name": "python",
   "nbconvert_exporter": "python",
   "pygments_lexer": "ipython3",
   "version": "3.12.8"
  }
 },
 "nbformat": 4,
 "nbformat_minor": 2
}
