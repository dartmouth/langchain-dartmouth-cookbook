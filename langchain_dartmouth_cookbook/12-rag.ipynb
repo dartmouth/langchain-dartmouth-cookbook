{
 "cells": [
  {
   "cell_type": "markdown",
   "metadata": {},
   "source": [
    "# Retrieval Augemented Generation (RAG)"
   ]
  },
  {
   "cell_type": "markdown",
   "metadata": {},
   "source": [
    "In the prevous two recepies, we learned how to [obtain an embedding](./10-embeddings.ipynb), as well as how to find the [similarity](./11-similarity-search.ipynb) between two embeddings. Retrievel Augmente Generation uses both of these to achieve the goal of querying an LLM and also providing some documents for additional context. For example, if you want the LLM to answer some questions based on specific documents you have, you can feed those documents in \n",
    "\n",
    "A RAG model is primarily made up of two components, the retriever, and the reader"
   ]
  },
  {
   "cell_type": "code",
   "execution_count": 3,
   "metadata": {},
   "outputs": [],
   "source": [
    "from langchain.docstore.document import Document\n",
    "from langchain_dartmouth.retrievers.document_compressors import DartmouthReranker\n",
    "from langchain.document_loaders import DirectoryLoader\n",
    "from langchain.document_loaders import TextLoader"
   ]
  },
  {
   "cell_type": "markdown",
   "metadata": {},
   "source": [
    "Given a **collection** of documents, we are interested in finding the ones most relevent to our question. Once a query is posed, the `compress_documents()` function from the `DartmouthReranker` class can be used, which uses the concept about [similarity](./11-similarity-search.ipynb), to return a list of documents which are most relevant to the query.\n",
    "\n",
    "### Restructure the RAG a bit \n",
    "    - Ramp things up in complexity\n",
    "    - Simplest way of a RAG is loading and then stuffing the prompt with a text. \n",
    "    - Next thing is, what if you have multiple documents? And you want the most relevant one? Reranking would be here. If you have a few and want to pull out all of them. \n",
    "    - "
   ]
  },
  {
   "cell_type": "markdown",
   "metadata": {},
   "source": [
    "### A Simple RAG"
   ]
  },
  {
   "cell_type": "markdown",
   "metadata": {},
   "source": [
    "At it's heart a RAG is akin to just pluging in an entire chunk of text that we want the LLM to reference when in it's answer. An example of this can be found below"
   ]
  },
  {
   "cell_type": "code",
   "execution_count": 4,
   "metadata": {},
   "outputs": [
    {
     "name": "stdout",
     "output_type": "stream",
     "text": [
      "Based on the information provided, the chances of an asteroid hitting you are extremely low, approximately 1 in 7 billion. This means that the likelihood of an asteroid impacting you is virtually negligible.\n",
      "\n",
      "So, to answer your question: no, it is highly unlikely that an asteroid is going to hit you.\n"
     ]
    }
   ],
   "source": [
    "from langchain_dartmouth.llms import ChatDartmouth\n",
    "llm = ChatDartmouth(model_name=\"llama-3-1-8b-instruct\")\n",
    "\n",
    "relevant_document = \"Asteroids do not generally hit people. There is a 1 in a 7 billion chance for that to happen\"\n",
    "query = \"Are asteroids going to hit me?\"\n",
    "\n",
    "response = llm.invoke(relevant_document + 'Considering this, answer the following question:' +  query)\n",
    "print(response.content)"
   ]
  },
  {
   "cell_type": "markdown",
   "metadata": {},
   "source": [
    "### Reranking Documents"
   ]
  },
  {
   "cell_type": "markdown",
   "metadata": {},
   "source": [
    "That was simple! What if we have many documents? In that case we can use the `DartmouthReranker` to find which document is the most relevant. \n",
    "\n",
    "<div class=\"alert alert-info\">\n",
    "\n",
    "**Note:** The `DirectoryLoader` function is a part of LangChain that accepts a directory, a regex expression, and a [loader class](./10-embeddings.ipynb). It's an easy way to load several documents that are in a directory at once\n",
    "</div>\n",
    "\n"
   ]
  },
  {
   "cell_type": "code",
   "execution_count": 5,
   "metadata": {},
   "outputs": [],
   "source": [
    "# Load the documents\n",
    "loader = DirectoryLoader('./rag_documents', glob=\"**/*.txt\", loader_cls=TextLoader)\n",
    "collection = loader.load()"
   ]
  },
  {
   "cell_type": "code",
   "execution_count": 6,
   "metadata": {},
   "outputs": [
    {
     "name": "stdout",
     "output_type": "stream",
     "text": [
      "rag_documents\\asteroids.txt\n",
      "rag_documents\\hot_sauce.txt\n",
      "rag_documents\\history.txt\n"
     ]
    }
   ],
   "source": [
    "reranker = DartmouthReranker()\n",
    "\n",
    "query = \"Are asteroids going to hit me?\"\n",
    "\n",
    "ranked_docs = reranker.compress_documents(query=query, documents=collection)\n",
    "\n",
    "for doc in ranked_docs:\n",
    "    print(doc.metadata['source'])"
   ]
  },
  {
   "cell_type": "markdown",
   "metadata": {},
   "source": [
    "We can see that when our query is related to asteroids, the document correcly ranks the asteroids.txt as the most relevent document. Now, we can prepend the content of the first ranked document to our query to get a response which considers the information in the document"
   ]
  },
  {
   "cell_type": "code",
   "execution_count": 7,
   "metadata": {},
   "outputs": [
    {
     "name": "stdout",
     "output_type": "stream",
     "text": [
      "The chances of an asteroid hitting you are extremely low. However, it's not impossible. The likelihood of being hit by an asteroid depends on various factors, such as the size and frequency of asteroid impacts, as well as your location on Earth.\n",
      "\n",
      "According to NASA, there are over 18,000 known near-Earth asteroids (NEAs), and many more are awaiting discovery. However, the vast majority of these asteroids are small, measuring less than 100 feet in diameter, and they burn up in the atmosphere or disintegrate before hitting the ground.\n",
      "\n",
      "To put the risk into perspective:\n",
      "\n",
      "1. **The odds of being hit by a meteorite (a small piece of an asteroid) are about 1 in 1.9 million.**\n",
      "2. **The likelihood of being hit by a large asteroid (one that could cause significant damage) is estimated to be about 1 in 1.4 million per year.** However, this risk is spread over the entire population of the Earth, making the chances of being hit by an asteroid extremely low.\n",
      "\n",
      "To further reduce the risk, scientists and astronomers are working on detecting and tracking near-Earth asteroids, as well as developing strategies for deflecting or destroying asteroids that pose a threat to our planet.\n",
      "\n",
      "So, while the possibility of an asteroid hitting you is low, it's not impossible. However, the chances are so small that you can rest assured that you're not in any immediate danger.\n",
      "\n",
      "To stay informed about asteroid-related news and developments, you can follow NASA's Asteroid Watch program or visit their website for updates on asteroid detection and tracking.\n"
     ]
    }
   ],
   "source": [
    "from langchain_dartmouth.llms import ChatDartmouth\n",
    "\n",
    "llm = ChatDartmouth(model_name=\"llama-3-1-8b-instruct\")\n",
    "response = llm.invoke(ranked_docs[0].page_content + 'Considering this, answer the following question:' +  query)\n",
    "print(response.content)"
   ]
  },
  {
   "cell_type": "markdown",
   "metadata": {},
   "source": [
    "## Using Vector Stores\n",
    "There is a useful feature in Langchain called `vector stores`. This allows us to store several documents in one go. The best part of this is that we don't need to prepend an entire document. We can break the documents into smaller chunks and only use the most relevent parts. "
   ]
  },
  {
   "cell_type": "code",
   "execution_count": 31,
   "metadata": {},
   "outputs": [],
   "source": [
    "from langchain_core.vectorstores import InMemoryVectorStore\n",
    "from langchain_dartmouth.embeddings import DartmouthEmbeddings\n",
    "from langchain_text_splitters import CharacterTextSplitter\n",
    "\n",
    "# Initialize the text splitter with appropriate chunk size\n",
    "text_splitter = CharacterTextSplitter(separator=\"\\n\", chunk_size=1000, chunk_overlap=200,length_function=len)\n",
    "\n",
    "# Load and split the documents\n",
    "collection = loader.load()\n",
    "chunks = text_splitter.split_documents(collection)\n",
    "\n",
    "# Initialize vector store and add chunks\n",
    "vector_store = InMemoryVectorStore(embedding=DartmouthEmbeddings())\n",
    "vector_store.add_documents(chunks)\n",
    "pass"
   ]
  },
  {
   "cell_type": "code",
   "execution_count": 33,
   "metadata": {},
   "outputs": [
    {
     "data": {
      "text/plain": [
       "[Document(id='e4d85fe6-897e-477c-80f5-420039ecfb94', metadata={'source': 'rag_documents\\\\asteroids.txt'}, page_content='**Asteroids: The Mysterious and Ancient Building Blocks of Our Solar System**\\nAsteroids, also known as minor planets or planetoids, are small, rocky objects that orbit the Sun. They are remnants from the early days of our solar system, and their study has provided valuable insights into the formation and evolution of the cosmos. These mysterious bodies have captivated the imagination of scientists and researchers for centuries, and their exploration continues to uncover new secrets about the universe.\\n**Composition and Types of Asteroids**\\nAsteroids are typically small, with diameters ranging from a few meters to hundreds of kilometers. They are composed of rock, metal, and ice, and are thought to be the remnants of the early solar system. There are two main types of asteroids: stony asteroids, which are composed mostly of silicate minerals, and metal asteroids, which are rich in iron and nickel.'),\n",
       " Document(id='05c7f81f-34c8-407a-9125-204bd30d35ff', metadata={'source': 'rag_documents\\\\asteroids.txt'}, page_content=\"In conclusion, asteroids are fascinating and complex objects that hold the secrets of our solar system's early days. Their study has provided valuable insights into the origin and evolution of our planet, and has implications for our understanding of the universe. As exploration of asteroids continues, we can expect to uncover new secrets about these mysterious bodies and their role in shaping our understanding of the cosmos.\"),\n",
       " Document(id='f6e60fb7-04c9-4e3f-828c-2b9e4d7faa7b', metadata={'source': 'rag_documents\\\\asteroids.txt'}, page_content=\"**Asteroid Impact and Earth's History**\\nAsteroids have played a significant role in shaping the history of our planet. The impact of a large asteroid is believed to have caused the extinction of the dinosaurs 65 million years ago. The Chicxulub crater in Mexico, formed by a massive asteroid impact, is one of the most well-documented instances of an asteroid collision, and is thought to be the cause of the mass extinction event.\\nIn recent years, there has been a growing interest in exploring asteroids as a source of natural resources, such as water and precious metals. NASA's OSIRIS-REx mission, launched in 2016, successfully returned samples from the asteroid Bennu, providing valuable insights into the composition and origin of these ancient bodies.\\n**Exploration and Scientific Significance**\"),\n",
       " Document(id='c9ee85eb-d32f-4713-a41a-5cfb006afed7', metadata={'source': 'rag_documents\\\\asteroids.txt'}, page_content=\"The largest asteroid, Ceres, is located in the asteroid belt between Mars and Jupiter and is the only one in our solar system that is rounded in shape, indicating that it may have once been a small planet. Ceres is also home to a surprising presence of organic compounds, water ice, and a possible subsurface ocean, making it a fascinating target for astrobiological research.\\n**Asteroid Belts and the Formation of the Solar System**\\nThe asteroid belt is the region between Mars and Jupiter where most asteroids are found. It's believed that the asteroid belt is the remnant of a planet that never formed, or one that was destroyed by the massive gravitational forces of the nearby gas giants. The asteroid belt is thought to have formed from the leftover material that couldn't coalesce into planets, and the small bodies in this region are a testament to the complex and dynamic processes that shaped the early solar system.\\n**Asteroid Impact and Earth's History**\")]"
      ]
     },
     "execution_count": 33,
     "metadata": {},
     "output_type": "execute_result"
    }
   ],
   "source": [
    "docs = vector_store.similarity_search(query)\n",
    "docs"
   ]
  },
  {
   "cell_type": "markdown",
   "metadata": {},
   "source": [
    "# Summary\n",
    "In this recipe we use a query and `DartmouthReranker` to retrieve relative documents from a **collection**. The content of the highest ranked document is then prepended in the a prompt to an llm. This is an implementation of retreival augmented generation."
   ]
  }
 ],
 "metadata": {
  "kernelspec": {
   "display_name": ".venv",
   "language": "python",
   "name": "python3"
  },
  "language_info": {
   "codemirror_mode": {
    "name": "ipython",
    "version": 3
   },
   "file_extension": ".py",
   "mimetype": "text/x-python",
   "name": "python",
   "nbconvert_exporter": "python",
   "pygments_lexer": "ipython3",
   "version": "3.12.8"
  }
 },
 "nbformat": 4,
 "nbformat_minor": 2
}
