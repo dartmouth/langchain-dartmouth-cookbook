{
 "cells": [
  {
   "cell_type": "markdown",
   "metadata": {},
   "source": [
    "# Authentication"
   ]
  },
  {
   "cell_type": "markdown",
   "metadata": {},
   "source": [
    "All models offered by Dartmouth require authentication. The components in `langchain_dartmouth` hide the underlying process to make things very simple from the user's perspective.\n",
    "\n",
    "<details>\n",
    "<summary>Learn more</summary>\n",
    "\n",
    "Technically speaking, the [authentication is a three-step process](https://developer.dartmouth.edu/docs/300_resource_apis/001_authentication_and_authorization_(jwt).md):\n",
    "\n",
    "1. Obtain a Dartmouth API key\n",
    "2. Using the Dartmouth API key, request a [JSON Web Token (JWT)](https://en.wikipedia.org/wiki/JSON_Web_Token) from a specific API endpoint\n",
    "3. Use the JWT when making requests \n",
    "\n",
    "The JWT expires after some time, which then requires re-authentication using the API key.\n",
    "\n",
    "The `langchain_dartmouth` components only require the Dartmouth API key from the user and handle the other steps \"under-the-hood\".\n",
    "</details>"
   ]
  },
  {
   "cell_type": "markdown",
   "metadata": {},
   "source": [
    "You need two different API keys, depending on which models you want to use.\n",
    "\n",
    "To use the open-source models deployed locally on Dartmouth's compute infrastructure, you need a Dartmouth API key that you can acquire from the [Dartmouth API Developer Portal](https://developer.dartmouth.edu/keys). \n",
    "\n",
    "To use the third-party commercial models provided by Dartmouth, you need a Dartmouth Chat API key. Follow these [instructions](https://rcweb.dartmouth.edu/~d20964h/2024-12-11-dartmouth-chat-api/api_key/) to obtain one.\n",
    "\n",
    "You can pass an API key to a component using the `dartmouth_api_key` or `dartmouth_chat_api_key` parameter, respectively, on object instantiation:"
   ]
  },
  {
   "cell_type": "markdown",
   "metadata": {},
   "source": [
    "```python\n",
    "from langchain_dartmouth.llms import DartmouthLLM\n",
    "\n",
    "llm = DartmouthLLM(dartmouth_api_key=\"you_api_key_here\")\n",
    "```"
   ]
  },
  {
   "cell_type": "markdown",
   "metadata": {},
   "source": [
    "We usually want to avoid putting API keys in our code directly, though. API keys are uniquely associated with your digital identity and thus sensitive information, just like a password. \n",
    "\n",
    "It is therefore good practice to instead define an [environment variable](https://en.wikipedia.org/wiki/Environment_variable) that holds the key. There are many ways to do this, but a very convenient one is to leverage the [`python-dotenv`](https://pypi.org/project/python-dotenv/) package and read the key from a text file.\n",
    "\n",
    "In order to do that, we need to create a text file called `.env` in the project folder. The file should contain just one or both of the following lines:\n",
    "\n",
    "```bash filename=\".env\"\n",
    "DARTMOUTH_API_KEY=\"your_api_key\"\n",
    "DARTMOUTH_CHAT_API_KEY=\"your_chat_api_key\"\n",
    "```\n",
    "\n",
    "We also need to install `python-dotenv`:"
   ]
  },
  {
   "cell_type": "code",
   "execution_count": null,
   "metadata": {},
   "outputs": [],
   "source": [
    "%pip install --quiet python-dotenv"
   ]
  },
  {
   "cell_type": "markdown",
   "metadata": {},
   "source": [
    "Now we can find and load the `.env` file:"
   ]
  },
  {
   "cell_type": "code",
   "execution_count": null,
   "metadata": {},
   "outputs": [],
   "source": [
    "from dotenv import find_dotenv, load_dotenv\n",
    "\n",
    "load_dotenv(find_dotenv())"
   ]
  },
  {
   "cell_type": "markdown",
   "metadata": {},
   "source": [
    "`find_dotenv` looks for a file called `.env` in the current working directory, and then iteratively checks the parent, grandparent, and so on until it finds the file and returns the path. `load_dotenv` loads the file from that path, and only returns `True` (if the `.env` file was found) or `False` (if it was not found). However, it also loads all variables defined in `.env` into the environment!\n",
    "\n",
    "<div class=\"alert alert-block alert-warning\">\n",
    "\n",
    "**Note:** If you are using git, make sure you include `.env` in your `.gitignore` to avoid leaking the key to your repository!</div>\n",
    "\n",
    "You could now access these variables using Python's built-in `os` module:"
   ]
  },
  {
   "cell_type": "code",
   "execution_count": null,
   "metadata": {},
   "outputs": [],
   "source": [
    "import os\n",
    "\n",
    "dartmouth_api_key = os.environ[\"DARTMOUTH_API_KEY\"]\n",
    "dartmouth_chat_api_key = os.environ[\"DARTMOUTH_CHAT_API_KEY\"]"
   ]
  },
  {
   "cell_type": "markdown",
   "metadata": {},
   "source": [
    "By default, all components in `langchain_dartmouth` look for an environment variable called `DARTMOUTH_API_KEY` or `DARTMOUTH_CHAT_API_KEY` for authentication. So as long as you load a `.env` file with that variable pointing to your key, you won't need to do anything else!"
   ]
  },
  {
   "cell_type": "markdown",
   "metadata": {},
   "source": [
    "## Summary\n",
    "\n",
    "You need to provide a valid Dartmouth API key or Dartmouth Chat API key in order to use the components in `langchain_dartmouth`. \n",
    "\n",
    "You can obtain a key from the [Dartmouth Developer Portal](https://developer.dartmouth.edu/keys) and by following these [instructions](https://rcweb.dartmouth.edu/~d20964h/2024-12-11-dartmouth-chat-api/api_key/).\n",
    "\n",
    "Store the keys as a variable called `DARTMOUTH_API_KEY` or `DARTMOUTH_CHAT_API_KEY` in a `.env` file, and load it using `python-dotenv`'s `load_dotenv()` at the beginning of your notebook or script."
   ]
  }
 ],
 "metadata": {
  "kernelspec": {
   "display_name": ".venv",
   "language": "python",
   "name": "python3"
  },
  "language_info": {
   "codemirror_mode": {
    "name": "ipython",
    "version": 3
   },
   "file_extension": ".py",
   "mimetype": "text/x-python",
   "name": "python",
   "nbconvert_exporter": "python",
   "pygments_lexer": "ipython3",
   "version": "3.12.6"
  }
 },
 "nbformat": 4,
 "nbformat_minor": 2
}
